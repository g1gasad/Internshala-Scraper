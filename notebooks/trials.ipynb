{
 "cells": [
  {
   "cell_type": "code",
   "execution_count": 9,
   "metadata": {},
   "outputs": [
    {
     "name": "stdout",
     "output_type": "stream",
     "text": [
      "https://internshala.com/internships/apis,analytics,business-analysis,data-analysis,data-analytics,data-science,google-suite-g-suite,google-workspace,ms-sql-server,market-business-research,mysql,power-bi,product,product-management,product-strategy,programming,python,research-and-analytics,sql,selenium,sports,statistical-modeling,tableau,artificial-intelligence-internship/page-1/\n"
     ]
    }
   ],
   "source": [
    "website_page = \"https://internshala.com/internships/apis,analytics,business-analysis,\\\n",
    "data-analysis,data-analytics,data-science,google-suite-g-suite,google-workspace,\\\n",
    "ms-sql-server,market-business-research,mysql,power-bi,product,product-management,\\\n",
    "product-strategy,programming,python,research-and-analytics,sql,selenium,sports,\\\n",
    "statistical-modeling,tableau,artificial-intelligence-internship/page-1/\"\n",
    "        \n",
    "print(website_page)\n",
    "\n"
   ]
  },
  {
   "cell_type": "code",
   "execution_count": 6,
   "metadata": {},
   "outputs": [
    {
     "data": {
      "text/plain": [
       "16"
      ]
     },
     "execution_count": 6,
     "metadata": {},
     "output_type": "execute_result"
    }
   ],
   "source": [
    "import math\n",
    "\n",
    "# math.ceil(646/40)\n",
    "646%42"
   ]
  },
  {
   "cell_type": "code",
   "execution_count": 2,
   "metadata": {},
   "outputs": [
    {
     "data": {
      "text/plain": [
       "1030.0"
      ]
     },
     "execution_count": 2,
     "metadata": {},
     "output_type": "execute_result"
    }
   ],
   "source": [
    "1000 * 1.03"
   ]
  }
 ],
 "metadata": {
  "kernelspec": {
   "display_name": "Python 3",
   "language": "python",
   "name": "python3"
  },
  "language_info": {
   "codemirror_mode": {
    "name": "ipython",
    "version": 3
   },
   "file_extension": ".py",
   "mimetype": "text/x-python",
   "name": "python",
   "nbconvert_exporter": "python",
   "pygments_lexer": "ipython3",
   "version": "3.11.5"
  }
 },
 "nbformat": 4,
 "nbformat_minor": 2
}
